{
  "nbformat": 4,
  "nbformat_minor": 0,
  "metadata": {
    "colab": {
      "name": "VSA Introduction 3 - Binding.ipynb",
      "provenance": [],
      "collapsed_sections": [],
      "authorship_tag": "ABX9TyMTjbA3Pjr+pj4Su8MMBLmB",
      "include_colab_link": true
    },
    "kernelspec": {
      "name": "python3",
      "display_name": "Python 3"
    },
    "language_info": {
      "name": "python"
    }
  },
  "cells": [
    {
      "cell_type": "markdown",
      "metadata": {
        "id": "view-in-github",
        "colab_type": "text"
      },
      "source": [
        "<a href=\"https://colab.research.google.com/github/wilkieolin/VSA-notebooks/blob/main/VSA_Introduction_3_Binding.ipynb\" target=\"_parent\"><img src=\"https://colab.research.google.com/assets/colab-badge.svg\" alt=\"Open In Colab\"/></a>"
      ]
    },
    {
      "cell_type": "markdown",
      "source": [
        "# Recap\n",
        "\n",
        "So far, we've introduced several concepts in vector-symbolic architectures (VSAs): vector-symbols, similarity, and bundling. As a quick refresher, symbols represent concepts via long vectors of values, and the 'closeness' between these symbols is measured via a value, their similarity. We can use bundling to create a new symbol which is similar to several inputs. \n",
        "\n",
        "At a high level, bundling does two things: it combines information from two or more inputs into a single output, and that output will be as similar as possible to each of its inputs. The operation we'll introduce now does something different: it also combines information from two or more inputs into a single output, but this output is *not* similar to its inputs. In this tutorial, we'll show how we can accomplish this and why it's so useful."
      ],
      "metadata": {
        "id": "wEMxu2-xqPm5"
      }
    },
    {
      "cell_type": "markdown",
      "source": [
        "# Graphs\n",
        "\n",
        "In the last tutorial, we introduced a sample concept we wanted to encode in a symbol: \"the cat eats the fish.\" Bundling alone couldn't capture the subject-object relationship we need to convey, since bundling only maintains a set of the involved objects and not their hierarchy. What we really need in this case is the ability to represent a more advanced data structure, a graph. \n",
        "\n",
        "Graphs consist of 'nodes' - objects which we want to represent - and 'edges,' the connections between them. A simple example of a graph is a social network, where nodes are people and edges the relationships between them. First, let's create a sample graph representing a social network using standard methods."
      ],
      "metadata": {
        "id": "sgEZh6vUsrA4"
      }
    },
    {
      "cell_type": "code",
      "source": [
        "import networkx as nx\n",
        "import matplotlib.pyplot as plt"
      ],
      "metadata": {
        "id": "Hvg1eOgWsOHu"
      },
      "execution_count": 1,
      "outputs": []
    },
    {
      "cell_type": "code",
      "source": [
        "# Create the graph\n",
        "social = nx.Graph()\n",
        "\n",
        "# Add the nodes (people) to the graph\n",
        "people = [\"Alice\", \"Bob\", \"Charli\", \"Dave\", \"Eve\", \"Zebulon\"]\n",
        "social.add_nodes_from(people)"
      ],
      "metadata": {
        "id": "l-neCahxvAg9"
      },
      "execution_count": 2,
      "outputs": []
    },
    {
      "cell_type": "code",
      "source": [
        "# Add edges to the graph, describing the friendships between people\n",
        "\n",
        "friends = [(\"Alice\", \"Bob\"), \n",
        "           (\"Bob\", \"Charli\"), \n",
        "           (\"Dave\", \"Eve\"), \n",
        "           (\"Alice\", \"Charli\")]\n",
        "\n",
        "social.add_edges_from(friends)"
      ],
      "metadata": {
        "id": "3zhGHtjjxMHL"
      },
      "execution_count": 3,
      "outputs": []
    },
    {
      "cell_type": "code",
      "source": [
        "# Draw the graph\n",
        "ax = plt.figure(dpi=100)\n",
        "nx.draw(social, with_labels=True, font_weight=\"bold\")"
      ],
      "metadata": {
        "colab": {
          "base_uri": "https://localhost:8080/",
          "height": 436
        },
        "id": "F1uupq53x22s",
        "outputId": "f1369231-87bb-469f-aba8-838f094fdc30"
      },
      "execution_count": 4,
      "outputs": [
        {
          "output_type": "display_data",
          "data": {
            "image/png": "[encoded data removed]",
            "text/plain": [
              "<Figure size 600x400 with 1 Axes>"
            ]
          },
          "metadata": {}
        }
      ]
    },
    {
      "cell_type": "markdown",
      "source": [
        "Even with this relatively simple graph, bundling alone isn't insufficient to represent the structure: we don't have any way to differentiate the nodes (people) from edges (friendships). What if there was a way we could construct a new symbol to represent a relationship between two people containing information from both, but dissimilar to either? *Binding* can allow us to accomplish this. "
      ],
      "metadata": {
        "id": "9Amm5ysQzdmg"
      }
    },
    {
      "cell_type": "markdown",
      "source": [
        "# Binding\n",
        "\n",
        "Below, we'll represent the binding operation with $×$. Bundling is represented with + since it resembles traditional addition. \n",
        "\n",
        "Similar to bundling, binding takes a set of 2 or more inputs and combines their information to create a single output. However, unlike bundling, the output of binding is dissimilar to the inputs. Binding's utility comes from the fact it is *similarity preserving*: if you measure the similarity between two symbols, bind both with third symbol, and measure the similarity between the two new symbols, the similarities will be approximately the same value:\n",
        "\n",
        "$ A' = A × C $\n",
        "\n",
        "$ B' = B × C $\n",
        "\n",
        "$ sim(A, B) ≈ sim(A', B') $\n",
        "\n",
        "Binding therefore allows us to take a group of symbols with a certain relationship (represented by similarity) and transform them to produce new symbols while preserving those previous relationships. \n",
        "\n",
        "If you think of a set of symbols as a a constellation of points in a hyperdimensional space, *bundling* finds the point at the center of the constellation. *Binding* instead takes each point and shifts it a distance and direction as specified by another point. If you shift each part of the constellation by the same amount, the formation ends up in a new part of the 'sky,' but the points' formation remains the same.\n",
        "\n",
        "This is still a little abstract, so let's show how binding can be applied to represent a graph. To represent our graph, we'll start as usual by creating a series of random, dissimilar (also called *orthogonal*) vectors for each person:"
      ],
      "metadata": {
        "id": "WXuHNLwt394f"
      }
    },
    {
      "cell_type": "code",
      "source": [
        "#standard imports\n",
        "import jax.numpy as jnp\n",
        "from jax import random, vmap\n",
        "\n",
        "import matplotlib.pyplot as plt\n",
        "\n",
        "#create a helper function to generate random symbols\n",
        "def generate_symbols(key, number: int, dimensionality: int):\n",
        "    return random.uniform(key, minval=-1.0, maxval=1.0, shape=(number, dimensionality))\n",
        "\n",
        "#similarity of FHRR vectors is defined by the average cosine of the difference between each angle in the two symbols being compared.\n",
        "def similarity(a,b):\n",
        "    assert a.shape[-1] == b.shape[-1], \"VSA Dimension must match: \" + str(a.shape) + \" \" + str(b.shape)\n",
        "    #multiply values by pi to move from (-1, 1) to (-π, π)\n",
        "    pi = jnp.pi\n",
        "    a = jnp.multiply(a, pi)\n",
        "    b = jnp.multiply(b, pi)\n",
        "    #calculate the mean cosine similarity between the vectors\n",
        "    similarity = jnp.mean(jnp.cos(a - b), axis=1)\n",
        "    return similarity\n",
        "\n",
        "#given two sets of symbols, measure the similarity between each pair of inputs\n",
        "def similarity_outer(a,b):\n",
        "    assert a.shape[1] == b.shape[1], \"VSA Dimension must match: \" + str(a.shape) + \" \" + str(b.shape)\n",
        "    sim_op = lambda x: similarity(x, b)\n",
        "    \n",
        "    return vmap(sim_op)(a)\n",
        "\n",
        "#create the key used to generate random values with JAX\n",
        "key = random.PRNGKey(42)\n",
        "\n",
        "#set the dimensionality of the VSA\n",
        "dimensionality = 1000"
      ],
      "metadata": {
        "colab": {
          "base_uri": "https://localhost:8080/"
        },
        "id": "STQrcM1c2IWh",
        "outputId": "4c682589-6ec1-4499-9457-bbf3476ea4f6"
      },
      "execution_count": 5,
      "outputs": [
        {
          "output_type": "stream",
          "name": "stderr",
          "text": [
            "WARNING:absl:No GPU/TPU found, falling back to CPU. (Set TF_CPP_MIN_LOG_LEVEL=0 and rerun for more info.)\n"
          ]
        }
      ]
    },
    {
      "cell_type": "code",
      "source": [
        "#define the symbols we'll use to represent the people in our graph\n",
        "key, subkey = random.split(key)\n",
        "vsa_people = generate_symbols(subkey, len(people), dimensionality)\n",
        "\n",
        "alice = vsa_people[0:1,:]\n",
        "bob = vsa_people[1:2,:]\n",
        "charli = vsa_people[2:3,:]\n",
        "dave = vsa_people[3:4,:]\n",
        "eve = vsa_people[4:5,:]\n",
        "zebulon = vsa_people[5:6,:]"
      ],
      "metadata": {
        "id": "Sp7V4-fB9zrY"
      },
      "execution_count": 6,
      "outputs": []
    },
    {
      "cell_type": "code",
      "source": [
        "#plotting function to measure the similarity between the initial symbols\n",
        "def plot_similarity_matrix(mat):\n",
        "  plt.figure(dpi=100)\n",
        "  plt.pcolor(mat)\n",
        "  plt.colorbar()\n",
        "  plt.title(\"Similarity between Symbols\")\n",
        "  plt.xticks(jnp.arange(0,6)+0.5, people)\n",
        "  plt.yticks(jnp.arange(0,6)+0.5, people)"
      ],
      "metadata": {
        "id": "fa_BOSO-gAFa"
      },
      "execution_count": 7,
      "outputs": []
    },
    {
      "cell_type": "markdown",
      "source": [
        "To begin with, we use a series of random, dissimilar symbols to describe each person. Each of these symbols is similar to itself and dissimilar to all others we've defined:"
      ],
      "metadata": {
        "id": "9OKncAoihKih"
      }
    },
    {
      "cell_type": "code",
      "source": [
        "#measure the similarity between our original symbols\n",
        "so = similarity_outer(vsa_people, vsa_people)\n",
        "\n",
        "plot_similarity_matrix(so)"
      ],
      "metadata": {
        "colab": {
          "base_uri": "https://localhost:8080/",
          "height": 385
        },
        "id": "fB0viBwKcffW",
        "outputId": "7f7e2661-adc9-4275-fe33-89aa2ce90e34"
      },
      "execution_count": 8,
      "outputs": [
        {
          "output_type": "display_data",
          "data": {
            "image/png": "[encoded data removed]",
            "text/plain": [
              "<Figure size 600x400 with 2 Axes>"
            ]
          },
          "metadata": {
            "needs_background": "light"
          }
        }
      ]
    },
    {
      "cell_type": "markdown",
      "source": [
        "Now, we'll define the binding function and demonstrate its preservation of the initial similarity between these symbols. In this case, it means that the symbols will remain dissimilar after being bound with the new symbol.\n",
        "\n",
        "The binding operation for the Fourier Holographic Reduced Representation (FHRR) VSA is fairly simple: the angles from each symbol are summed. You can think of this as taking the first vector, and moving each of its angles ahead by the amount in the next vector. \n",
        "\n",
        "Obviously, we can create an inverse operation for this ($÷$) as well - subtracting the angles we just added to get (approximately) the original symbol. The binding and unbinding functions are defined below."
      ],
      "metadata": {
        "id": "0jLsVImehv80"
      }
    },
    {
      "cell_type": "code",
      "source": [
        "#Bundling operation for FHRR\n",
        "def bundle(*symbols):\n",
        "    symbols = jnp.stack(symbols, axis=0)\n",
        "    #convert each angle to a complex number\n",
        "    pi = jnp.pi\n",
        "    j = jnp.array([0+1j])\n",
        "\n",
        "    #sum the complex numbers to find the bundled vector\n",
        "    cmpx = jnp.exp(pi * j * symbols)\n",
        "    bundle = jnp.sum(cmpx, axis=0)\n",
        "    #convert the complex sum back to an angle\n",
        "    bundle = jnp.angle(bundle) / pi\n",
        "    bundle = jnp.reshape(bundle, (1, -1))\n",
        "\n",
        "    return bundle\n",
        "\n",
        "#shift angles (radian-normalized) from (-inf, inf) to (-1, 1)\n",
        "def remap_phase(x):\n",
        "    x = jnp.mod(x, 2.0)\n",
        "    x = -2.0 * jnp.greater(x, 1.0) + x\n",
        "\n",
        "    return x\n",
        "\n",
        "#binding operation for FHRR\n",
        "def bind(*symbols):\n",
        "    #stack the vararg inputs into an array\n",
        "    symbols = jnp.stack(symbols)\n",
        "    #sum the angles\n",
        "    symbol = jnp.sum(symbols, axis=0)\n",
        "    #remap the angles to (-1, 1)\n",
        "    symbol = remap_phase(symbol)\n",
        "    #reshape the output to maintain 2D array\n",
        "    symbol = jnp.reshape(symbol, (1, -1))\n",
        "\n",
        "    return symbol\n",
        "\n",
        "def unbind(x, *symbols):\n",
        "    #stack and sum the symbols to be unbound\n",
        "    symbols = jnp.stack(symbols, axis=0)\n",
        "    symbols = jnp.sum(symbols, axis=0)\n",
        "\n",
        "    #remove them from the input & remap phase\n",
        "    symbol = jnp.subtract(x, symbols)\n",
        "    symbol = remap_phase(symbol)\n",
        "\n",
        "    return symbol"
      ],
      "metadata": {
        "id": "cYHF9omuBT99"
      },
      "execution_count": 9,
      "outputs": []
    },
    {
      "cell_type": "markdown",
      "source": [
        "Now, let's do a quick test to show this function has the properties we've specified:"
      ],
      "metadata": {
        "id": "9ykH3MCDEikb"
      }
    },
    {
      "cell_type": "code",
      "source": [
        "#create a new random symbol\n",
        "key, subkey = random.split(key)\n",
        "random_symbol = generate_symbols(subkey, 1, dimensionality)\n",
        "\n",
        "#bind each of the people symbols with this new random symbol\n",
        "vsa_people_2 = jnp.stack([bind(symbol, random_symbol) for symbol in [alice, bob, charli, dave, eve, zebulon]])\n",
        "vsa_people_2 = jnp.squeeze(vsa_people_2)\n",
        "\n",
        "#measure the similarity between the original symbols and bound symbols\n",
        "self_similarity = similarity(vsa_people, vsa_people_2)\n",
        "#measure the similarity between the bound symbols\n",
        "so_2 = similarity_outer(vsa_people_2, vsa_people_2)"
      ],
      "metadata": {
        "id": "xw5Z2eKOeW2J"
      },
      "execution_count": 10,
      "outputs": []
    },
    {
      "cell_type": "markdown",
      "source": [
        "As we can see, after binding each of the original 'people' symbols with a new, random symbol, the bound symbols are dissimilar to the people symbols ($A ≉  A × X $):"
      ],
      "metadata": {
        "id": "UsUMRKTMicVR"
      }
    },
    {
      "cell_type": "code",
      "source": [
        "self_similarity"
      ],
      "metadata": {
        "colab": {
          "base_uri": "https://localhost:8080/"
        },
        "id": "xK8e78QwgL8U",
        "outputId": "bc94777a-b667-49a1-f5ce-d84b00ddf1fd"
      },
      "execution_count": 11,
      "outputs": [
        {
          "output_type": "execute_result",
          "data": {
            "text/plain": [
              "DeviceArray([0.02290777, 0.02290776, 0.02290776, 0.02290776, 0.02290776,\n",
              "             0.02290776], dtype=float32)"
            ]
          },
          "metadata": {},
          "execution_count": 11
        }
      ]
    },
    {
      "cell_type": "markdown",
      "source": [
        "But, simultaneously, if we plot the similarity of the new, bound symbols to themselves, the plot is identical to before within the limits of numerical noise ($sim(A, B) ≈ sim(A × C, B × C)$):"
      ],
      "metadata": {
        "id": "O4NFTq5rinuj"
      }
    },
    {
      "cell_type": "code",
      "source": [
        "plot_similarity_matrix(so_2)"
      ],
      "metadata": {
        "colab": {
          "base_uri": "https://localhost:8080/",
          "height": 385
        },
        "id": "c54gcB_tf9_q",
        "outputId": "9d404182-8540-4b6c-bb93-1a40695cc434"
      },
      "execution_count": 12,
      "outputs": [
        {
          "output_type": "display_data",
          "data": {
            "image/png": "[encoded data removed]",
            "text/plain": [
              "<Figure size 600x400 with 2 Axes>"
            ]
          },
          "metadata": {
            "needs_background": "light"
          }
        }
      ]
    },
    {
      "cell_type": "code",
      "source": [
        "#difference in self-similarity between the original and bound symbols is approximately zero\n",
        "jnp.mean(so - so_2)"
      ],
      "metadata": {
        "colab": {
          "base_uri": "https://localhost:8080/"
        },
        "id": "KceJK254gfq0",
        "outputId": "a7174731-ff18-4448-e4d8-deb92b647889"
      },
      "execution_count": 13,
      "outputs": [
        {
          "output_type": "execute_result",
          "data": {
            "text/plain": [
              "DeviceArray(1.0396535e-09, dtype=float32)"
            ]
          },
          "metadata": {},
          "execution_count": 13
        }
      ]
    },
    {
      "cell_type": "markdown",
      "source": [
        "# Vector-Symbolic Graphs\n",
        "\n",
        "So, how does binding allow us to represent hierarchy in the way we'll need to construct a graph? Binding allows us to combine the symbols representing people to represent edges. \n",
        "\n",
        "$ Edge_0 = (Alice × Bob) $\n",
        "\n",
        "Because of the properties of binding we demonstrated above, we know all of the new symbols we create using it will still be dissimilar to one another *and* to the original symbols:"
      ],
      "metadata": {
        "id": "oSwKlm7mk3HD"
      }
    },
    {
      "cell_type": "code",
      "source": [
        "#plot similarity between a symbol and the original 'people' symbols\n",
        "def plot_similarity(symbol):\n",
        "    plt.figure(dpi=100)\n",
        "    plt.xticks(rotation=45)\n",
        "    plt.bar(people, similarity(symbol, vsa_people))\n",
        "    plt.ylim(0,1.1)\n",
        "    plt.ylabel(\"Similarity\")"
      ],
      "metadata": {
        "id": "KhYjPouAQy7R"
      },
      "execution_count": 14,
      "outputs": []
    },
    {
      "cell_type": "code",
      "source": [
        "edge_0 = bind(alice, bob)"
      ],
      "metadata": {
        "id": "eKfqqJRn_R2O"
      },
      "execution_count": 15,
      "outputs": []
    },
    {
      "cell_type": "code",
      "source": [
        "plot_similarity(edge_0)"
      ],
      "metadata": {
        "colab": {
          "base_uri": "https://localhost:8080/",
          "height": 398
        },
        "id": "6ib1VPNSLwOo",
        "outputId": "4cd957f2-d908-4ffd-c1f1-f236465a3e77"
      },
      "execution_count": 16,
      "outputs": [
        {
          "output_type": "display_data",
          "data": {
            "image/png": "[encoded data removed]",
            "text/plain": [
              "<Figure size 600x400 with 1 Axes>"
            ]
          },
          "metadata": {
            "needs_background": "light"
          }
        }
      ]
    },
    {
      "cell_type": "markdown",
      "source": [
        "This plot confirms that despite being constructed from the symbols for 'Alice' and 'Bob,' the symbol we made from binding them together isn't similar to either. Therefore, we can bundle together a series of symbols representing edges - we know that each of these symbols will be unique (dissimilar to the others) and represent a combination of two inputs. \n",
        "\n",
        "$ G = (Alice × Bob) + (Bob × Charli) + (Alice × Charli) + (Dave × Eve) $"
      ],
      "metadata": {
        "id": "AIP4Lgx3_Xha"
      }
    },
    {
      "cell_type": "code",
      "source": [
        "vsa_graph = bundle(bind(alice, bob), bind(bob, charli), bind(alice, charli), bind(dave, eve))"
      ],
      "metadata": {
        "id": "OPbJw8PIAfi6"
      },
      "execution_count": 18,
      "outputs": []
    },
    {
      "cell_type": "markdown",
      "source": [
        "Now, how can this representation of a graph be useful? We can use vector-symbolic operations to query it - e.g. find if a certain relationship exists in the graph:"
      ],
      "metadata": {
        "id": "yCxHQ6sHX-QV"
      }
    },
    {
      "cell_type": "code",
      "source": [
        "# is (alice x eve) in the graph?\n",
        "similarity(vsa_graph, bind(alice, eve)).item()"
      ],
      "metadata": {
        "colab": {
          "base_uri": "https://localhost:8080/"
        },
        "id": "iXw3o0NhDXKw",
        "outputId": "1a54f085-d548-465d-a957-da41d4a086f5"
      },
      "execution_count": 19,
      "outputs": [
        {
          "output_type": "execute_result",
          "data": {
            "text/plain": [
              "-0.0007699094130657613"
            ]
          },
          "metadata": {},
          "execution_count": 19
        }
      ]
    },
    {
      "cell_type": "code",
      "source": [
        "# is (dave x eve) in the graph?\n",
        "similarity(vsa_graph, bind(dave, eve)).item()"
      ],
      "metadata": {
        "colab": {
          "base_uri": "https://localhost:8080/"
        },
        "id": "j-9w_QmLDdKY",
        "outputId": "4af4eafa-10d7-4388-e3bd-48b7575d4a5d"
      },
      "execution_count": 20,
      "outputs": [
        {
          "output_type": "execute_result",
          "data": {
            "text/plain": [
              "0.43206915259361267"
            ]
          },
          "metadata": {},
          "execution_count": 20
        }
      ]
    },
    {
      "cell_type": "markdown",
      "source": [
        "Because there is no relationship between Alice and Eve encoded in the graph, there is no similarity between this symbol and the graph. Conversely, there *is* significant similarity between Dave $×$ Eve and the graph because it includes that relationship.\n",
        "\n",
        "Let's make another query, and figure out whom Alice is friends with. To do this, we'll apply the 'unbinding' operator to the graph with $Alice$ as an argument: "
      ],
      "metadata": {
        "id": "ma5esY1wDVWi"
      }
    },
    {
      "cell_type": "code",
      "source": [
        "alice_friends = unbind(vsa_graph, alice)\n",
        "plot_similarity(alice_friends)"
      ],
      "metadata": {
        "colab": {
          "base_uri": "https://localhost:8080/",
          "height": 398
        },
        "id": "mQbMPRW_BDRX",
        "outputId": "881b7f87-83a8-434a-ea9a-5ad10c47c4d8"
      },
      "execution_count": 21,
      "outputs": [
        {
          "output_type": "display_data",
          "data": {
            "image/png": "[encoded data removed]",
            "text/plain": [
              "<Figure size 600x400 with 1 Axes>"
            ]
          },
          "metadata": {
            "needs_background": "light"
          }
        }
      ]
    },
    {
      "cell_type": "markdown",
      "source": [
        "By unbinding $Alice$ from the graph, symbols which were bound to it now become similar to their original selves. We can show this formally:\n",
        "\n",
        "$ G = (Alice × Bob) + (Bob × Charli) + (Alice × Charli) + (Dave × Eve) $\n",
        "\n",
        "$ G' = Alice ÷ G = Bob + Charli + (Bob × Charli ÷ Alice) + (Dave × Eve ÷ Alice) $\n",
        "\n",
        "When we look at those last two terms, where 'Alice' doesn't cancel anything out, these terms aren't similar to anything in our list of people, so essentially these terms can be viewed as noise:\n",
        "\n",
        "$ G' = Alice ÷ G = Bob + Charli + noise $\n",
        "\n",
        "This is why when we look at the people $G'$ is similar to, only Bob and Charli have significant values. \n",
        "\n",
        "We can make more powerful queries by extending our strategy, for instance finding the friends of Alice and Eve *simultaneously* by using bundling to make a superposition of queries:"
      ],
      "metadata": {
        "id": "BPCRyLJlCBuJ"
      }
    },
    {
      "cell_type": "code",
      "source": [
        "plot_similarity(unbind(vsa_graph, bundle(alice, eve)))"
      ],
      "metadata": {
        "colab": {
          "base_uri": "https://localhost:8080/",
          "height": 398
        },
        "id": "IIS7xpatCroX",
        "outputId": "ad19a2e6-bbbc-4bca-c4e0-6bf16eec4422"
      },
      "execution_count": 22,
      "outputs": [
        {
          "output_type": "display_data",
          "data": {
            "image/png": "[encoded data removed]",
            "text/plain": [
              "<Figure size 600x400 with 1 Axes>"
            ]
          },
          "metadata": {
            "needs_background": "light"
          }
        }
      ]
    },
    {
      "cell_type": "markdown",
      "source": [
        "You'll notice, however, that the similarities of the positive results decrease - the results become more approximate when the query is prsented in superposition. This is one of the fundamental trade-offs of VSAs at work again: bundling more terms decreases similarity to the original symbols. This can put a limit on both the size of our queries and the number of edges we encode in a graph before accuracy degrades.\n",
        "\n",
        "Let's look at another superposition-based query. Can we see if either Alice, Bob, or Charli is friends with Dave? If there's a connection between any of those people in the graph, it will be a binding of those individuals with Dave. Again, we can bundle Alice, Bob, and Charli together, bind this symbol with Dave, and see if it's similar to the graph:\n",
        "\n"
      ],
      "metadata": {
        "id": "6ez_o2fXYgQj"
      }
    },
    {
      "cell_type": "code",
      "source": [
        "similarity(vsa_graph, bind(bundle(alice, bob, charli), dave)).item()"
      ],
      "metadata": {
        "colab": {
          "base_uri": "https://localhost:8080/"
        },
        "id": "TohBiO5yImLs",
        "outputId": "bf5c2f32-aa38-4820-ed8f-89792a0c8075"
      },
      "execution_count": 23,
      "outputs": [
        {
          "output_type": "execute_result",
          "data": {
            "text/plain": [
              "0.03318747133016586"
            ]
          },
          "metadata": {},
          "execution_count": 23
        }
      ]
    },
    {
      "cell_type": "markdown",
      "source": [
        "The resulting symbol isn't similar to the graph, so we can conclude that Dave isn't friends with either Alice, Bob, or Charli. If, however, Alice becomes friends with Dave, we can add this relationship to the graph:"
      ],
      "metadata": {
        "id": "MKHovPvgY_AY"
      }
    },
    {
      "cell_type": "code",
      "source": [
        "vsa_graph_2 = bundle(bind(alice, bob), bind(bob, charli), bind(charli, alice), bind(dave, eve), bind(alice, dave))"
      ],
      "metadata": {
        "id": "zQcgvSWRI_RI"
      },
      "execution_count": 24,
      "outputs": []
    },
    {
      "cell_type": "markdown",
      "source": [
        "Now the similarity of the same query becomes significant, as the new relationship is part of the graph:"
      ],
      "metadata": {
        "id": "tMDIwtfYIDSV"
      }
    },
    {
      "cell_type": "code",
      "source": [
        "similarity(vsa_graph_2, bind(bundle(alice, bob, charli), dave)).item()"
      ],
      "metadata": {
        "colab": {
          "base_uri": "https://localhost:8080/"
        },
        "id": "KFSl_hDGJCpu",
        "outputId": "09d50233-8dcb-4891-ce90-a4e6a5d6b932"
      },
      "execution_count": 25,
      "outputs": [
        {
          "output_type": "execute_result",
          "data": {
            "text/plain": [
              "0.19187811017036438"
            ]
          },
          "metadata": {},
          "execution_count": 25
        }
      ]
    },
    {
      "cell_type": "markdown",
      "source": [
        "Again, the boundary between a 'significant' and 'insignificant' match in a VSA is not always clear, and is generally related to a degree of uncertainty. In the first notebook, we computed that the standard deviation of the similarity between random vectors with a dimensionality of 1,000 is approximately 0.023. With this result, we can state that a similarity score of 0.192 is over 8 times the standard deviation, making the result highly unlikely to be due to chance similarity between symbols. \n",
        "\n"
      ],
      "metadata": {
        "id": "xc_D6sRnZcVV"
      }
    },
    {
      "cell_type": "markdown",
      "source": [
        "# Conclusion\n",
        "\n",
        "We've now introduced the fundamental building blocks of vector-symbolic architectures: similarity, bundling, and binding. With these three operations, we can represent increasingly complex objects. In this notebook, we represented an (undirected) graph using a vector-symbolic architecture and showed that we could use these operations to make complex queries on the graph efficiently. In contrast to standard representations of graphs, where nodes are objects in memory and edges pointers linking them together, a vector-symbolic representation of a graph contains the entire representation of a graph within a single object. Queries are not made by dereferencing pointers to traverse the graph, but by constructing new symbols and measuring their similarity to the graph's representation. As we saw, this allows us to make complex queries in a single step, though the results are probabilistic rather than deterministic. \n",
        "\n",
        "Bundling and binding allow us to engineer the similarity between symbols to represent structured knowledge. So far, we've used these operations to represent sets and graphs. VSAs aren't limited to only these structures, and other works have [represented images, sequences, and more with VSAs](https://arxiv.org/abs/2111.06077). \n",
        "\n",
        "Sometimes, we may not be able to design the structures we need to solve a problem by using a set of random symbols and the VSA operations; there may be too many possible inputs, or there are existing relationships between symbols we can't clearly describe using rules and hierarchies. In the next notebook, we'll explore how neural networks can integrate with VSAs to provide this 'missing piece' of the puzzle. "
      ],
      "metadata": {
        "id": "Hlpw_U4La20S"
      }
    }
  ]
}