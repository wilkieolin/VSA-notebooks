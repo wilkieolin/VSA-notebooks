{
  "nbformat": 4,
  "nbformat_minor": 0,
  "metadata": {
    "colab": {
      "name": "VSA Introduction 2 - Bundling.ipynb",
      "provenance": [],
      "collapsed_sections": [],
      "authorship_tag": "ABX9TyNMFSY6DIYovYkzWm5CM6gF",
      "include_colab_link": true
    },
    "kernelspec": {
      "name": "python3",
      "display_name": "Python 3"
    },
    "language_info": {
      "name": "python"
    }
  },
  "cells": [
    {
      "cell_type": "markdown",
      "metadata": {
        "id": "view-in-github",
        "colab_type": "text"
      },
      "source": [
        "<a href=\"https://colab.research.google.com/github/wilkieolin/VSA-notebooks/blob/main/VSA_Introduction_2_Bundling.ipynb\" target=\"_parent\"><img src=\"https://colab.research.google.com/assets/colab-badge.svg\" alt=\"Open In Colab\"/></a>"
      ]
    },
    {
      "cell_type": "markdown",
      "source": [
        "# Recap\n",
        "In the last tutorial, we introduced some basic concepts of vector-symbolic architectures (VSAs): the use of a vector of values on a particular domain to represent a symbol, the measurement of similarity between vector-symbols, and the fact that as these symbols grow longer, similarity between random symbols approaches zero. \n",
        "\n",
        "In this tutorial, we'll go farther by introducing a simple operation, called 'bundling' (alternately, 'superposition' or 'addition') which creates a single symbol which represents a set of others. "
      ],
      "metadata": {
        "id": "kCC6twgO_aJL"
      }
    },
    {
      "cell_type": "markdown",
      "source": [
        "# Sets\n",
        "\n",
        "Let's assume we have a large set of symbols, a subset of which we wish to represent as a collection - for instance, out of a large list of concepts we want to group 'dog', 'cat,' and 'tiger' together as 'animals.' In standard computer science, we can do this via lists:"
      ],
      "metadata": {
        "id": "LOZ__4Jr_ap-"
      }
    },
    {
      "cell_type": "code",
      "execution_count": 1,
      "metadata": {
        "colab": {
          "base_uri": "https://localhost:8080/"
        },
        "id": "a3hZK5EC_NyZ",
        "outputId": "6ca6f518-bfd6-4298-92cc-55040b68aebc"
      },
      "outputs": [
        {
          "output_type": "stream",
          "name": "stdout",
          "text": [
            "Animals:  dog cat tiger\n"
          ]
        }
      ],
      "source": [
        "#list of concepts\n",
        "concepts = [\"desk\", \"chair\", \"mug\", \"dog\", \"cat\", \"tiger\", \"airplane\", \"car\"]\n",
        "#subgroup of animals\n",
        "animals = concepts[3:6]\n",
        "\n",
        "print(\"Animals: \", *animals)"
      ]
    },
    {
      "cell_type": "markdown",
      "source": [
        "Inside the computer, our \"animals\" subgroup can be represented by list of 3 pointers back to the original objects (\"dog\", \"cat\", and \"tiger\"). This list grows in size with additional element we want to add to it. \n",
        "\n",
        "Now, if we want to create other collections, we can do so with new lists: "
      ],
      "metadata": {
        "id": "OrcTKjsQEinr"
      }
    },
    {
      "cell_type": "code",
      "source": [
        "#subgroup of house pets\n",
        "pets = concepts[3:5]\n",
        "print(\"Pets: \", *pets)\n",
        "\n",
        "#subgroup of furniture\n",
        "furniture = concepts[0:2]\n",
        "print(\"Furniture: \", *furniture)"
      ],
      "metadata": {
        "colab": {
          "base_uri": "https://localhost:8080/"
        },
        "id": "h1ma5raId1I1",
        "outputId": "6737662c-0193-4dd9-976c-276ae3745441"
      },
      "execution_count": 2,
      "outputs": [
        {
          "output_type": "stream",
          "name": "stdout",
          "text": [
            "Pets:  dog cat\n",
            "Furniture:  desk chair\n"
          ]
        }
      ]
    },
    {
      "cell_type": "markdown",
      "source": [
        "Using this representation of a set, if we want to compare the similarity between any two collections, we have to traverse through each list, retrieve the items from each, and compare them to find features like the intersection between the lists:\n"
      ],
      "metadata": {
        "id": "OhkrZp62eGxc"
      }
    },
    {
      "cell_type": "code",
      "source": [
        "for animal in animals: \n",
        "  if animal in pets:\n",
        "    print(animal, \"is an animal and a house pet.\")"
      ],
      "metadata": {
        "colab": {
          "base_uri": "https://localhost:8080/"
        },
        "id": "4msX_sbeetGX",
        "outputId": "9cd6d6f9-61a8-427e-b8c9-e9f05c2f1b8e"
      },
      "execution_count": 3,
      "outputs": [
        {
          "output_type": "stream",
          "name": "stdout",
          "text": [
            "dog is an animal and a house pet.\n",
            "cat is an animal and a house pet.\n"
          ]
        }
      ]
    },
    {
      "cell_type": "markdown",
      "source": [
        "VSAs allow us to change our approach in a major way. Each original concept is instead instantiated as a random vector-symbol. "
      ],
      "metadata": {
        "id": "2V95tdPsfOB1"
      }
    },
    {
      "cell_type": "code",
      "source": [
        "#standard imports\n",
        "import jax.numpy as jnp\n",
        "from jax import random\n",
        "\n",
        "import matplotlib.pyplot as plt\n",
        "\n",
        "#create a helper function to generate random symbols\n",
        "def generate_symbols(key, number: int, dimensionality: int):\n",
        "    return random.uniform(key, minval=-1.0, maxval=1.0, shape=(number, dimensionality))\n",
        "\n",
        "#similarity of FHRR vectors is defined by the average cosine of the difference between each angle in the two symbols being compared.\n",
        "def similarity(a,b):\n",
        "    assert a.shape[-1] == b.shape[-1], \"VSA Dimension must match: \" + str(a.shape) + \" \" + str(b.shape)\n",
        "    #multiply values by pi to move from (-1, 1) to (-π, π)\n",
        "    pi = jnp.pi\n",
        "    a = jnp.multiply(a, pi)\n",
        "    b = jnp.multiply(b, pi)\n",
        "    #calculate the mean cosine similarity between the vectors\n",
        "    similarity = jnp.mean(jnp.cos(a - b), axis=1)\n",
        "    return similarity\n",
        "\n",
        "#create the key used to generate random values with JAX\n",
        "key = random.PRNGKey(42)\n",
        "\n",
        "#set the dimensionality of the VSA\n",
        "dimensionality = 1000"
      ],
      "metadata": {
        "colab": {
          "base_uri": "https://localhost:8080/"
        },
        "id": "m0TQ3sD3fDtX",
        "outputId": "0dd6f307-3f04-4906-8ecb-575e30cf88de"
      },
      "execution_count": 4,
      "outputs": [
        {
          "output_type": "stream",
          "name": "stderr",
          "text": [
            "WARNING:absl:No GPU/TPU found, falling back to CPU. (Set TF_CPP_MIN_LOG_LEVEL=0 and rerun for more info.)\n"
          ]
        }
      ]
    },
    {
      "cell_type": "code",
      "source": [
        "key, subkey = random.split(key)\n",
        "vsa_concepts = generate_symbols(subkey, len(concepts), dimensionality)\n",
        "\n",
        "desk = vsa_concepts[0:1,:]\n",
        "chair = vsa_concepts[1:2,:]\n",
        "mug = vsa_concepts[2:3,:]\n",
        "dog = vsa_concepts[3:4,:]\n",
        "cat = vsa_concepts[4:5,:]\n",
        "tiger = vsa_concepts[5:6,:]\n",
        "airplane = vsa_concepts[6:7,:]\n",
        "car = vsa_concepts[7:8,:]"
      ],
      "metadata": {
        "id": "-RC7FLHrjBFD"
      },
      "execution_count": 5,
      "outputs": []
    },
    {
      "cell_type": "markdown",
      "source": [
        "Each concept now has a corresponding symbol - for instance, \"desk\" is represented by the first row in the ```vsa_concepts``` matrix. Now, let's define the bundling operation."
      ],
      "metadata": {
        "id": "2fS8u-Rwm8pb"
      }
    },
    {
      "cell_type": "markdown",
      "source": [
        "# Bundling"
      ],
      "metadata": {
        "id": "oLE8rFf0dsxI"
      }
    },
    {
      "cell_type": "code",
      "source": [
        "#Bundling operation for FHRR\n",
        "def bundle(*symbols):\n",
        "    symbols = jnp.stack(symbols, axis=0)\n",
        "    #convert each angle to a complex number\n",
        "    pi = jnp.pi\n",
        "    j = jnp.array([0+1j])\n",
        "\n",
        "    #sum the complex numbers to find the bundled vector\n",
        "    cmpx = jnp.exp(pi * j * symbols)\n",
        "    bundle = jnp.sum(cmpx, axis=0)\n",
        "    #convert the complex sum back to an angle\n",
        "    bundle = jnp.angle(bundle) / pi\n",
        "    bundle = jnp.reshape(bundle, (1, -1))\n",
        "\n",
        "    return bundle"
      ],
      "metadata": {
        "id": "L-Wax7NfnMNJ"
      },
      "execution_count": 6,
      "outputs": []
    },
    {
      "cell_type": "markdown",
      "source": [
        "In the FHRR VSA, bundling is accomplished by taking each of the input symbols and converting every angle to an equivalent complex number via [Euler's formula](https://en.wikipedia.org/wiki/Euler%27s_formula). These vectors of complex numbers are then summed element-wise, and the angle of the resulting sum is taken to form the new vector. Essentially, this operation finds an 'average value' for each set of elements in the input symbols. \n",
        "\n",
        "The central purpose of this bundling operation is to create a single new symbol which is highly similar to its set of inputs. At the minimum, this new symbol should be more similar to the inputs than to random symbols. As the number of inputs increases, this becomes more challenging to accomplish.\n",
        "\n",
        "Let's start with a simple demonstration of using bundling to represent a set of objects, just as we previously accomplished with lists:"
      ],
      "metadata": {
        "id": "qAakpsb9Ku1O"
      }
    },
    {
      "cell_type": "code",
      "source": [
        "animals = bundle(dog, cat, tiger)"
      ],
      "metadata": {
        "id": "yXM1fGi4qQQQ"
      },
      "execution_count": 7,
      "outputs": []
    },
    {
      "cell_type": "markdown",
      "source": [
        "We've now created a single symbol to represent our collection of \"animals.\" As we can see by calculating its similarity to all of the concepts we've defined, the only symbols highly similar to it are \"dog,\" \"cat,\" and \"tiger.\" This is exactly what we expect, since those were the symbols bundled together to create the 'animals' symbol. "
      ],
      "metadata": {
        "id": "A8m6Hhl5Ly1e"
      }
    },
    {
      "cell_type": "code",
      "source": [
        "#compare \"animals\" symbol to all concepts\n",
        "plt.figure(dpi=100)\n",
        "plt.bar(concepts, similarity(animals, vsa_concepts))\n",
        "plt.xlabel(\"Symbol\")\n",
        "plt.ylabel(\"Similarity\")\n",
        "plt.title(\"Similarity of 'Animals' Bundle to Concepts\");"
      ],
      "metadata": {
        "colab": {
          "base_uri": "https://localhost:8080/",
          "height": 404
        },
        "id": "oYHGswG6onbV",
        "outputId": "dc3eb93d-5de6-414e-c605-74bb6979452e"
      },
      "execution_count": 8,
      "outputs": [
        {
          "output_type": "display_data",
          "data": {
            "image/png": "[encoded data removed]",
            "text/plain": [
              "<Figure size 600x400 with 1 Axes>"
            ]
          },
          "metadata": {
            "needs_background": "light"
          }
        }
      ]
    },
    {
      "cell_type": "markdown",
      "source": [
        "Let's create some other bundled vectors to represent the lists we had previously: household pets (dog, cat) and furniture (desk, chair). "
      ],
      "metadata": {
        "id": "BBkHYsU-O5q3"
      }
    },
    {
      "cell_type": "code",
      "source": [
        "pets = bundle(dog, cat) \n",
        "furniture = bundle(desk, chair) "
      ],
      "metadata": {
        "id": "6o3GXww3ohqH"
      },
      "execution_count": 9,
      "outputs": []
    },
    {
      "cell_type": "markdown",
      "source": [
        "Once again, the new bundled vectors formed for these sets are only similar to the inputs used to create them:"
      ],
      "metadata": {
        "id": "vM3TjzJ2P6iS"
      }
    },
    {
      "cell_type": "code",
      "source": [
        "#compare \"pets\" symbol to all concepts\n",
        "plt.figure(dpi=100)\n",
        "plt.bar(concepts, similarity(pets, vsa_concepts))\n",
        "plt.xlabel(\"Symbol\")\n",
        "plt.ylabel(\"Similarity\")\n",
        "plt.title(\"Similarity of 'Pets' Bundle to Concepts\");"
      ],
      "metadata": {
        "colab": {
          "base_uri": "https://localhost:8080/",
          "height": 404
        },
        "id": "nFDWfcM3vZup",
        "outputId": "0644a2b7-3201-48c5-d7b1-595f2d6c9a6d"
      },
      "execution_count": 10,
      "outputs": [
        {
          "output_type": "display_data",
          "data": {
            "image/png": "[encoded data removed]",
            "text/plain": [
              "<Figure size 600x400 with 1 Axes>"
            ]
          },
          "metadata": {
            "needs_background": "light"
          }
        }
      ]
    },
    {
      "cell_type": "code",
      "source": [
        "#compare \"furniture\" symbol to all concepts\n",
        "plt.figure(dpi=100)\n",
        "plt.bar(concepts, similarity(furniture, vsa_concepts))\n",
        "plt.xlabel(\"Symbol\")\n",
        "plt.ylabel(\"Similarity\")\n",
        "plt.title(\"Similarity of 'Furniture' Bundle to Concepts\");"
      ],
      "metadata": {
        "colab": {
          "base_uri": "https://localhost:8080/",
          "height": 404
        },
        "id": "cpiYRA3YPUdX",
        "outputId": "c93789ef-e970-458f-ea50-0f4014ea00c8"
      },
      "execution_count": 11,
      "outputs": [
        {
          "output_type": "display_data",
          "data": {
            "image/png": "[encoded data removed]",
            "text/plain": [
              "<Figure size 600x400 with 1 Axes>"
            ]
          },
          "metadata": {
            "needs_background": "light"
          }
        }
      ]
    },
    {
      "cell_type": "markdown",
      "source": [
        "One of the advantages of using a symbol created through bundling to represent a set is the fact that these representations can be *directly compared.* We don't need to traverse through two lists and compare items one by one: each set is represented by a single vector-symbol, a pair of which can compared via similarity. \n",
        "\n",
        "For instance, let's compare the similarity of the 'pets' and 'animals' symbols:"
      ],
      "metadata": {
        "id": "MM8VQN-zPUTx"
      }
    },
    {
      "cell_type": "code",
      "source": [
        "#compare \"pets\" to \"animals\"\n",
        "similarity_0 = similarity(pets, animals).item()\n",
        "print(similarity_0)"
      ],
      "metadata": {
        "colab": {
          "base_uri": "https://localhost:8080/"
        },
        "id": "aw-WN9qtojIZ",
        "outputId": "0d84d7c2-1c4a-4971-d95e-c5f26ce6f282"
      },
      "execution_count": 12,
      "outputs": [
        {
          "output_type": "stream",
          "name": "stdout",
          "text": [
            "0.6818754076957703\n"
          ]
        }
      ]
    },
    {
      "cell_type": "markdown",
      "source": [
        "These sets are highly similar, with 66% of items in 'animals' also belonging to 'pets.' This is reflected by the high similarity score between the two symbols constructed to represent these sets. Now, let's compare the 'animals' and 'furniture' symbols:"
      ],
      "metadata": {
        "id": "NPs2aHn4RCpy"
      }
    },
    {
      "cell_type": "code",
      "source": [
        "#compare \"animals\" to \"furniture\"\n",
        "similarity(animals, furniture).item()"
      ],
      "metadata": {
        "colab": {
          "base_uri": "https://localhost:8080/"
        },
        "id": "FrcY7i7AulFW",
        "outputId": "3cb63125-a8e0-45c5-e264-93e04085f68b"
      },
      "execution_count": 13,
      "outputs": [
        {
          "output_type": "execute_result",
          "data": {
            "text/plain": [
              "-0.00309000420384109"
            ]
          },
          "metadata": {},
          "execution_count": 13
        }
      ]
    },
    {
      "cell_type": "markdown",
      "source": [
        "Sharing no original inputs, the symbols for these sets have a similarity score of approximately zero. \n",
        "\n",
        "Because of the way in which these sets are represented - via vector-symbols - we can make these powerful comparisons between them in a single step, rather than iterating through lists and dereferencing pointers to make a comparison. This is one of the key advantages of VSAs: the ability to directly and efficiently compare symbols representing complex structures. \n",
        "\n",
        "However, as you may have noticed, one of the key disadvantages of VSAs is that they are *noisy.* None of the similarity values we calculate are *exactly* zero. Bundling of vectors runs into the limit that as the number of inputs increases, the similarity of the output vector to each input decreases (this is subject to some assumptions, such as each input symbol is random; if input symbols are already similar, it's easier to create a bundle to be similar to each of them). \n",
        "\n",
        "Let's next take a look at how bundling performs as the number of random input symbols scales."
      ],
      "metadata": {
        "id": "e1Ukr_6XRpQR"
      }
    },
    {
      "cell_type": "markdown",
      "source": [
        "# Number of Inputs\n",
        "\n",
        "A symbol created by bundling a set of inputs has to compromise between accurately representing each of its inputs. You can imagine that for 100 random input symbols, it is difficult to create a new symbol that is highly similar to each of these inputs. \n",
        "\n",
        "Let's examine how difficult it is to re-discover which components were used to create a bundle as the number of components increases. We'll do this by comparing trends in two quantities: the similarity between a set of symbols and their bundle, and the similarity between that bundle and a different set of random symbols. The first quantity represents a 'signal,' or how well the bundle can represent each of its inputs, and the second provides a baseline or 'noise' which informs us how similar the bundle is to symbols which were not involved in its computation."
      ],
      "metadata": {
        "id": "ssIfp69qUthH"
      }
    },
    {
      "cell_type": "code",
      "source": [
        "#Bundling operation for FHRR matrices\n",
        "def bundle_matrix(symbols):\n",
        "    pi = jnp.pi\n",
        "    j = jnp.array([0+1j])\n",
        "\n",
        "    #sum the complex numbers to find the bundled vector\n",
        "    cmpx = jnp.exp(pi * j * symbols)\n",
        "    bundle = jnp.sum(cmpx, axis=0)\n",
        "    #convert the complex sum back to an angle\n",
        "    bundle = jnp.angle(bundle) / pi\n",
        "    bundle = jnp.reshape(bundle, (1, -1))\n",
        "\n",
        "    return bundle"
      ],
      "metadata": {
        "id": "YUHUlrEwnrdU"
      },
      "execution_count": 14,
      "outputs": []
    },
    {
      "cell_type": "code",
      "source": [
        "#calculate the 'signal' - similarity between a set of input symbols and their bundle\n",
        "def inner_similarity(input_symbols):\n",
        "    b = bundle_matrix(input_symbols)\n",
        "    s = similarity(b, input_symbols)\n",
        "\n",
        "    return s"
      ],
      "metadata": {
        "id": "dwxUrHhiV0Zb"
      },
      "execution_count": 15,
      "outputs": []
    },
    {
      "cell_type": "code",
      "source": [
        "#calculate the 'noise' - similarity between a bundled symbol and a set of random symbols\n",
        "def outer_similarity(input_symbols, random_symbols):\n",
        "    b = bundle_matrix(input_symbols)\n",
        "    s = similarity(b, random_symbols)\n",
        "\n",
        "    return s"
      ],
      "metadata": {
        "id": "ewhtkLSff4Jv"
      },
      "execution_count": 16,
      "outputs": []
    },
    {
      "cell_type": "code",
      "source": [
        "\"\"\"\n",
        "Dispatch a trial to calculate the similarity between a bundle, its components, and \n",
        "random symbols. Takes a PRNG key, number of symbols to be bundled, number of trials\n",
        "to calculate over, number of random symbols to compare to, and dimensionality of\n",
        "the vector-symbol.\n",
        "\"\"\"\n",
        "def bundle_trial(key, \n",
        "                 n_bundle: int, \n",
        "                 n_trials: int = 5, \n",
        "                 n_random: int = 1000, \n",
        "                 dimensionality: int = 1000):\n",
        "  \n",
        "    #generate PRNG subkeys\n",
        "    subkeys = random.split(key, 2 * n_trials)\n",
        "\n",
        "    #dispatch symbol generation\n",
        "    generate_bundle = lambda x: generate_symbols(x, n_bundle, dimensionality)\n",
        "    generate_random = lambda x: generate_symbols(x, n_random, dimensionality)\n",
        "\n",
        "    bundle_symbols = list(map(generate_bundle, subkeys[0:n_trials]))\n",
        "    random_symbols = list(map(generate_random, subkeys[n_trials:]))\n",
        "\n",
        "    #calculate the similarity between a bundled symbol and its inputs for n_trials trials\n",
        "    inner_sim = jnp.array(list(map(inner_similarity, bundle_symbols)))\n",
        "    #calculate the similarity between a bundled symbol and random symbols for n_trials trials\n",
        "    outer_sim = jnp.array(list(map(outer_similarity, bundle_symbols, random_symbols)))\n",
        "\n",
        "    #calculate average statistics over each trial\n",
        "    intra_mean = jnp.mean(inner_sim)\n",
        "    intra_std = jnp.std(inner_sim)\n",
        "\n",
        "    inter_mean = jnp.mean(outer_sim)\n",
        "    inter_std = jnp.std(outer_sim)\n",
        "\n",
        "    return intra_mean, inter_mean, intra_std, inter_std"
      ],
      "metadata": {
        "id": "eYn6_8cFWYkR"
      },
      "execution_count": 17,
      "outputs": []
    },
    {
      "cell_type": "markdown",
      "source": [
        "We'll run this experiment over a range of 2 symbols in a bundle to 101 symbols in a bundle, with 5 trials at each step. The default dimensionality is the same as we've been using (1000). This experiment should take around 60 seconds to run. "
      ],
      "metadata": {
        "id": "EPKGnyyT22CI"
      }
    },
    {
      "cell_type": "code",
      "source": [
        "#define the range of symbols we are bundling\n",
        "n_bundle = jnp.arange(start = 2, stop = 101, step = 2, dtype = int)\n",
        "#generate the PRNG keys\n",
        "n_steps = len(n_bundle)\n",
        "keys = random.split(key, n_steps+1)\n",
        "key = keys[0]\n",
        "subkeys = keys[1:]\n",
        "\n",
        "fn = lambda x, y: bundle_trial(x, y, n_trials = 5)\n",
        "#dispatch the calculation over number of symbols to be bundled\n",
        "result = jnp.array(list(map(fn, subkeys, n_bundle)))\n",
        "\n",
        "#separate the means & standard deviations from the result\n",
        "bundle_means = result[:, 0:2]\n",
        "bundle_stds = result[:, 2:4]"
      ],
      "metadata": {
        "id": "3ZlO3CgNVTjF"
      },
      "execution_count": 18,
      "outputs": []
    },
    {
      "cell_type": "code",
      "source": [
        "\"\"\"\n",
        "Plotting function to visualize the experiment's results. \n",
        "Sigma controls the height of the vertical fill, a higher value shows means we want\n",
        "to be more conservative in the risk of mistaking a bundled vector for a random one.\n",
        "\"\"\"\n",
        "\n",
        "def plot_results(n_bundle, bundle_means, bundle_stds, sigma: float = 0.0):\n",
        "    plt.figure(dpi=100)\n",
        "\n",
        "    #plot the signal's mean & fill between (sigma) standard deviations\n",
        "    plt.plot(n_bundle, bundle_means[:, 0], label=\"Bundle-Input Similarity (Signal)\")\n",
        "    plt.fill_between(n_bundle, \n",
        "                    bundle_means[:, 0] - sigma * bundle_stds[:, 0],\n",
        "                    bundle_means[:, 0] + sigma * bundle_stds[:, 0], alpha=0.3)\n",
        "\n",
        "    #plot the noise's mean & fill between (sigma) standard deviations\n",
        "    plt.plot(n_bundle, bundle_means[:, 1], label=\"Bundle-Random Similarity (Noise)\")\n",
        "    plt.fill_between(n_bundle, \n",
        "                    bundle_means[:, 1] - sigma * bundle_stds[:, 1],\n",
        "                    bundle_means[:, 1] + sigma * bundle_stds[:, 1], alpha=0.3)\n",
        "\n",
        "    plt.legend()\n",
        "    plt.xlabel(\"Number of Bundled Symbols\")\n",
        "    plt.ylabel(\"Similarity\")\n",
        "    plt.title(\"Similarity Between Bundled Vector, Inputs, and Random Vectors\")"
      ],
      "metadata": {
        "id": "HGm9amlQZF79"
      },
      "execution_count": 19,
      "outputs": []
    },
    {
      "cell_type": "markdown",
      "source": [
        "Now let's look at the results from that experiment. They show the trend that we expect to see: As more symbols are bundled together, the risk that we can't correctly use similarity to identify which symbols were used to construct the bundle increases. \n",
        "\n",
        "Here, we plot a distribution of similarities by identifying its mean value (blue / orange lines) and filling in 3 standard deviations above and below this line. Where these two arcs for signal and noise begin to overlap (approximately 45 symbols bundled), we begin to lose the power to recover the input symbols confidently. \n",
        "\n",
        "From the previous notebook, we know that vector-symbol dimensionality has an effect on the distribution of similarities between random symbols. Given this relationship, we can predict how this also affects the ability of bundling to represent more symbols as dimensionality increases. You can check your prediction by modifying the code above and re-running the experiment and plots. \n"
      ],
      "metadata": {
        "id": "XHalwwr637eB"
      }
    },
    {
      "cell_type": "code",
      "source": [
        "plot_results(n_bundle, bundle_means, bundle_stds, sigma = 3.0)"
      ],
      "metadata": {
        "colab": {
          "base_uri": "https://localhost:8080/",
          "height": 404
        },
        "id": "k_TdiNvZYHha",
        "outputId": "a9a3b3ed-830b-4d3a-abfd-58a5769a7b77"
      },
      "execution_count": 20,
      "outputs": [
        {
          "output_type": "display_data",
          "data": {
            "image/png": "[encoded data removed]",
            "text/plain": [
              "<Figure size 600x400 with 1 Axes>"
            ]
          },
          "metadata": {
            "needs_background": "light"
          }
        }
      ]
    },
    {
      "cell_type": "markdown",
      "source": [
        "# Conclusion\n",
        "\n",
        "In this notebook, we've introduced the concept of 'bundling' in vector-symbolic architectures. Essentially, this function constructs a single new symbol from a set of inputs, trying to maintain similarity between these inputs and the new output symbol. This allows us to represent a set of symbols via a single, other symbol. These sets can then be easily stored and compared, and their components re-identified by checking similarity to a known set of possible inputs. \n",
        "\n",
        "However, we've shown that the greater the number of inputs used to construct a bundle, the harder it is to accurately represent each of those inputs. Even so, this estimate was a worst-case bound, where each input symbol was random. We may wish instead to bundle a set of similar inputs together. \n",
        "\n",
        "For instance, in one example we bundled 'dog' and 'cat' together into 'pets.' In this example, 'dog' and 'cat' were random vectors with approximately 0 similarity:"
      ],
      "metadata": {
        "id": "UOB1_C_j6WmX"
      }
    },
    {
      "cell_type": "code",
      "source": [
        "similarity(dog, cat).item()"
      ],
      "metadata": {
        "colab": {
          "base_uri": "https://localhost:8080/"
        },
        "id": "bYNoB0I47YG-",
        "outputId": "d7c2fa05-7b3a-4a59-9f69-7148cc995685"
      },
      "execution_count": 21,
      "outputs": [
        {
          "output_type": "execute_result",
          "data": {
            "text/plain": [
              "0.006434498354792595"
            ]
          },
          "metadata": {},
          "execution_count": 21
        }
      ]
    },
    {
      "cell_type": "markdown",
      "source": [
        "Yet, we know that dogs and cats share many features: they are both 4 legged, domesticated mammals. As such, it would likely make sense if the symbols for 'cat' and 'dog' shared similarity to begin with. So, how should they be constructed?\n",
        "\n",
        "This is one of the challenges of VSAs: determining how input data, including prior knowledge, is mapped into symbols to begin with, as well as determining what are fundamental, atomic symbols, and what concepts should be constructed from these atoms. Fortunately, neural networks are beginning to provide one potential solution to this challenge which we'll address in a later tutorial.  But before introducing how neural networks can work with vector-symbols, we'll address another fundamental operation in VSAs: *binding.* \n",
        "\n",
        "Sets alone are insufficient to describe complex relationships. If I want to create a symbol to represent the concept of \"the cat ate the fish,\" it's insufficient to simply bundle together a set of concepts such as \"cat, eating, fish.\" Bundles do not contain order or precedence, so when decoding the bundle it would be just as valid to interpret it as \"fish, eating, cat,\" which is not the concept we wish to convey.\n",
        "\n",
        "Binding provides a way of attaching two or more concepts together in a way preserves information from its components, but which *does not* preserve similarity to them. We'll see in the next tutorial how this additional function allows us to construct advanced data structures within a symbol, including graphs. "
      ],
      "metadata": {
        "id": "c1USGta57hwu"
      }
    }
  ]
}