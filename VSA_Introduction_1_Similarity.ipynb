{
  "nbformat": 4,
  "nbformat_minor": 0,
  "metadata": {
    "colab": {
      "name": "VSA Introduction 1 - Similarity.ipynb",
      "provenance": [],
      "collapsed_sections": [],
      "authorship_tag": "ABX9TyN1KS3C/hKs1D6Yyp4QIkI5",
      "include_colab_link": true
    },
    "kernelspec": {
      "name": "python3",
      "display_name": "Python 3"
    },
    "language_info": {
      "name": "python"
    }
  },
  "cells": [
    {
      "cell_type": "markdown",
      "metadata": {
        "id": "view-in-github",
        "colab_type": "text"
      },
      "source": [
        "<a href=\"https://colab.research.google.com/github/wilkieolin/VSA-notebooks/blob/main/VSA_Introduction_1_Similarity.ipynb\" target=\"_parent\"><img src=\"https://colab.research.google.com/assets/colab-badge.svg\" alt=\"Open In Colab\"/></a>"
      ]
    },
    {
      "cell_type": "markdown",
      "source": [
        "# Introduction\n",
        "\n",
        "In my opinion, a collection of techniques for manipulating symbols known collectively as \"vector-symbolic architectures\" (VSAs) (or equivalently, \"hyperdimensional computing\", HDC) provides an exciting set of methods for representing\n",
        "and manipulating information. Much of my own research seeks to utilize VSAs, but in presenting it I find that outside of a small (but growing) community, VSAs are not well-known (for instance, in the realm of conventional AI and CS).\n",
        "\n",
        "Several good articles exist to introduce those interested to VSAs - my two favorites are [An Introduction to Hyperdimensional Computing for Robotics](https://link.springer.com/article/10.1007/s13218-019-00623-z) and its companion article [A Comparison of Vector Symbolic Architectures](https://arxiv.org/pdf/2001.11797). These articles do an excellent job of going into the technical details of VSAs, how they can be applied, and the different ways in which they are implemented. \n",
        "\n",
        "However, I found that the best way to begin understanding VSAs was to simply begin using them. Many of the core concepts of VSAs are relatively simple to implement and have clear analogs to traditional computer science tools. In this notebook, I include code for computing with one implementation of a VSA, the [Fourier Holographic Reduced Representation (FHRR)](https://ieeexplore.ieee.org/abstract/document/377968). "
      ],
      "metadata": {
        "id": "vyXEUGz0jDVo"
      }
    },
    {
      "cell_type": "markdown",
      "source": [
        "# Motivation\n",
        "\n",
        "The central processing unit (CPU) of a computer contains specialized hardware to represent and manipulate a certain set of mathematical objects: integers, floating-points, and matrices of these values. Everything a computer does - from spreadsheets to videos and AI knowledge models - is built using these atomic representations and manipulated with the instruction set architecture (ISA) of the processor(s) being used. \n",
        "\n",
        "As traditional scaling of computer components becomes increasingly challenging, the efficient representation and manipulation of information within a processor is now one of the chief challenges computer manufacturers are looking to improve. This is one of the motivations behind NVIDIA's attempt to acquire Arm and the increasing popularity of the open-source RISC-V ISA. \n",
        "\n",
        "However, radically different representations of information can offer alternate avenues to provide efficient, high-speed, and reliable computing. With VSAs, we aim to create computers which compute with concepts. Such a computer stores and manipulates 'symbols,' atomic pieces of information which can represent abstract features like 'cat,' 'eat,' and 'food.' How then should we physically represnt each of these concepts, and manipulate them together to represent a new concept such as \"the cat eats the food?\" Vector-symbolic architectures provide paths for accomplishing these calculations effectively. "
      ],
      "metadata": {
        "id": "SbZZmiJyjLZt"
      }
    },
    {
      "cell_type": "markdown",
      "source": [
        "# Vector-Symbols\n",
        "\n",
        "Each vector-symbolic architecture provides a method for defining and manipulating symbols. The common feature between VSAs is that each symbol is stored as a long series of values, or 'vector.' In one VSA, [binary spatter codes](https://link.springer.com/article/10.1007/s12559-009-9009-8) (BSC), binary vectors are used - each symbol is a long list of values which are either 0 or 1. The FHRR representation instead uses a list of angles from (-π to π in radians). For the assumptions behind VSAs to operate correctly, a vector-symbol must have at least hundreds of elements, and VSA operations improve by scaling up to thousands of elements or more. We'll explore this scaling in more detail below.\n",
        "\n",
        "To create a vector-symbol, you can select a series of random values on the domain defined by the VSA. As a default choice, we're using the FHRR VSA with a dimensionality of 1000 (each symbol is a vector of 1000 angles)."
      ],
      "metadata": {
        "id": "6Xft7C5SjNvs"
      }
    },
    {
      "cell_type": "code",
      "execution_count": 1,
      "metadata": {
        "id": "jF4z57GCtX-0"
      },
      "outputs": [],
      "source": [
        "import jax.numpy as jnp\n",
        "from jax import jit\n",
        "from jax import random\n",
        "\n",
        "import matplotlib.pyplot as plt"
      ]
    },
    {
      "cell_type": "code",
      "source": [
        "#create a helper function to generate random symbols\n",
        "def generate_symbols(key, number: int, dimensionality: int):\n",
        "  return random.uniform(key, minval=-1.0, maxval=1.0, shape=(number, dimensionality))\n",
        "\n",
        "#create the key used to generate random values with JAX\n",
        "key = random.PRNGKey(42)\n",
        "\n",
        "#set the dimensionality of the VSA\n",
        "dimensionality = 1000\n",
        "\n",
        "#create the first symbol\n",
        "symbol_0 = generate_symbols(key, 1, dimensionality)"
      ],
      "metadata": {
        "id": "pEBWgaMFt-gz",
        "colab": {
          "base_uri": "https://localhost:8080/"
        },
        "outputId": "119c0d9b-71d1-40d4-a7da-3cd5d4f3c0c7"
      },
      "execution_count": 2,
      "outputs": [
        {
          "output_type": "stream",
          "name": "stderr",
          "text": [
            "WARNING:absl:No GPU/TPU found, falling back to CPU. (Set TF_CPP_MIN_LOG_LEVEL=0 and rerun for more info.)\n"
          ]
        }
      ]
    },
    {
      "cell_type": "code",
      "source": [
        "def plot_symbol(symbol):\n",
        "  plt.figure(dpi=100, figsize=(10,1))\n",
        "  plt.pcolor(symbol[0:1,0:100], cmap=\"hsv\")\n",
        "  plt.colorbar()"
      ],
      "metadata": {
        "id": "_jVMHtjLsBaH"
      },
      "execution_count": 3,
      "outputs": []
    },
    {
      "cell_type": "code",
      "source": [
        "plot_symbol(symbol_0)"
      ],
      "metadata": {
        "colab": {
          "base_uri": "https://localhost:8080/",
          "height": 141
        },
        "id": "wjlnZoFHrAjV",
        "outputId": "c7473edf-0394-4cb9-c745-0c151ec9fd16"
      },
      "execution_count": 4,
      "outputs": [
        {
          "output_type": "display_data",
          "data": {
            "image/png": "[encoded data removed]",
            "text/plain": [
              "<Figure size 1000x100 with 2 Axes>"
            ]
          },
          "metadata": {
            "needs_background": "light"
          }
        }
      ]
    },
    {
      "cell_type": "markdown",
      "source": [
        "As you can see, we've now created our first vector-symbol. It has 1000 values between -1 and 1, which can be multiplied by π to produce an angle in radians, or 180 to produce an angle in degrees. We can represent this as a \"color barcode,\" where each stripe represents the position of an angle around a unit circle. Here, we plot only the first 100 angles for clarity. "
      ],
      "metadata": {
        "id": "kw9M3geXsWSR"
      }
    },
    {
      "cell_type": "markdown",
      "source": [
        "# Similarity\n",
        "\n",
        "So what makes a vector-symbol useful? It can be compared with other symbols by a pre-defined metric, referred to as *similarity.* Symbols which are identical have a similarity of 1, and symbols which are unrelated have a similarity of (approximately) 0.\n",
        "\n",
        "One of the astonishing properties of high-dimensional spaces which VSAs leverage is the phenomenon that with certain metrics and vectors, the similarity of random vectors tends towards 0 as the vectors become longer. To demonstrate this, we'll first define the similarity metric for the FHRR VSA and then explore it as dimensionality shifts.\n",
        "\n",
        "For the FHRR VSA, the similarity between two symbols is just the average of the cosine of difference in angles between the two vectors:"
      ],
      "metadata": {
        "id": "3t7jLVAFeBlE"
      }
    },
    {
      "cell_type": "code",
      "source": [
        "#similarity of FHRR vectors is defined by the average cosine of the difference between each angle in the two symbols being compared.\n",
        "@jit\n",
        "def similarity(a,b):\n",
        "    assert a.shape[-1] == b.shape[-1], \"VSA Dimension must match: \" + str(a.shape) + \" \" + str(b.shape)\n",
        "    #multiply values by pi to move from (-1, 1) to (-π, π)\n",
        "    pi = jnp.pi\n",
        "    a = jnp.multiply(a, pi)\n",
        "    b = jnp.multiply(b, pi)\n",
        "    #calculate the mean cosine similarity between the vectors\n",
        "    similarity = jnp.mean(jnp.cos(a - b), axis=1)\n",
        "    return similarity"
      ],
      "metadata": {
        "id": "ZywOjjHFrB1E"
      },
      "execution_count": 5,
      "outputs": []
    },
    {
      "cell_type": "markdown",
      "source": [
        "Now that we've defined our similarity metric, let's create a second random symbol to compare with the first one."
      ],
      "metadata": {
        "id": "nhhuYVlruALT"
      }
    },
    {
      "cell_type": "code",
      "source": [
        "#move the PRNG to the next state (see JAX documentation for details)\n",
        "key, subkey = random.split(key)\n",
        "symbol_1 = generate_symbols(subkey, 1, dimensionality)"
      ],
      "metadata": {
        "id": "LD4s4Z1Utmyt"
      },
      "execution_count": 6,
      "outputs": []
    },
    {
      "cell_type": "code",
      "source": [
        "plot_symbol(symbol_1)"
      ],
      "metadata": {
        "colab": {
          "base_uri": "https://localhost:8080/",
          "height": 141
        },
        "id": "mF9eufpluWu3",
        "outputId": "a06c7af3-680a-4e7b-dcc1-5d225c1edc70"
      },
      "execution_count": 7,
      "outputs": [
        {
          "output_type": "display_data",
          "data": {
            "image/png": "[encoded data removed]",
            "text/plain": [
              "<Figure size 1000x100 with 2 Axes>"
            ]
          },
          "metadata": {
            "needs_background": "light"
          }
        }
      ]
    },
    {
      "cell_type": "code",
      "source": [
        "similarity(symbol_0, symbol_1).item()"
      ],
      "metadata": {
        "colab": {
          "base_uri": "https://localhost:8080/"
        },
        "id": "WB2C2MHgugJF",
        "outputId": "2c6fad9e-6d82-4d5c-b70e-dc57d7ff4ad1"
      },
      "execution_count": 8,
      "outputs": [
        {
          "output_type": "execute_result",
          "data": {
            "text/plain": [
              "0.00473695108667016"
            ]
          },
          "metadata": {},
          "execution_count": 8
        }
      ]
    },
    {
      "cell_type": "markdown",
      "source": [
        "As you can see, the similarity between the two random symbols is extremely small - 0.004. If this just seems like coincidence, let's repeat it with 10,000 random symbols. "
      ],
      "metadata": {
        "id": "JP1h80a9vG5g"
      }
    },
    {
      "cell_type": "code",
      "source": [
        "key, subkey = random.split(key)\n",
        "codebook_0 = generate_symbols(subkey, 10000, dimensionality)\n",
        "similarities = similarity(symbol_0, codebook_0)"
      ],
      "metadata": {
        "id": "RyRGQKaGuuDe"
      },
      "execution_count": 9,
      "outputs": []
    },
    {
      "cell_type": "code",
      "source": [
        "plt.figure(dpi=100)\n",
        "plt.hist(similarities, bins=21);\n",
        "plt.xlabel(\"Similarity\")\n",
        "plt.ylabel(\"Count\");"
      ],
      "metadata": {
        "colab": {
          "base_uri": "https://localhost:8080/",
          "height": 383
        },
        "id": "DNivzmQxvmVn",
        "outputId": "4e1dc47f-b77a-4cb0-d242-ed6e27f067c5"
      },
      "execution_count": 10,
      "outputs": [
        {
          "output_type": "display_data",
          "data": {
            "image/png": "[encoded data removed]",
            "text/plain": [
              "<Figure size 600x400 with 1 Axes>"
            ]
          },
          "metadata": {
            "needs_background": "light"
          }
        }
      ]
    },
    {
      "cell_type": "markdown",
      "source": [
        "As you can see, the similarity between random vectors turns out to be a Gaussian distribution centered around zero. This is essentially a consequence of the central limit theorem applied to this specific case. So, how long does the vector-symbol need to be for the similarity of random vectors to be approximately zero? We can run a quick experiment to estimate this empirically."
      ],
      "metadata": {
        "id": "7U4T3N3WwCcJ"
      }
    },
    {
      "cell_type": "code",
      "source": [
        "trials = 10000\n",
        "dimension_range = jnp.arange(10, 1001, step=10, dtype=int)"
      ],
      "metadata": {
        "id": "tls4WAt7r9j8"
      },
      "execution_count": 11,
      "outputs": []
    },
    {
      "cell_type": "code",
      "source": [
        "def generate_trials(key, trials, dimensionalities):\n",
        "  #find the size of a matrix large enough for all trials\n",
        "  total_range = jnp.cumsum(dimension_range)\n",
        "  #generate that matrix\n",
        "  key, subkey = random.split(key)\n",
        "  all_values = generate_symbols(subkey, trials + 1, total_range[-1])\n",
        "  #slice it into codebooks, each of the appropriate size\n",
        "  codebooks = jnp.split(all_values, total_range[0:-1], axis=1)\n",
        "\n",
        "  return key, codebooks"
      ],
      "metadata": {
        "id": "Ryq8W98j4xwV"
      },
      "execution_count": 12,
      "outputs": []
    },
    {
      "cell_type": "code",
      "source": [
        "key, cbs = generate_trials(key, 10000, dimension_range)"
      ],
      "metadata": {
        "id": "Nbpw1scF52hO"
      },
      "execution_count": 13,
      "outputs": []
    },
    {
      "cell_type": "code",
      "source": [
        "def estimate_orthogonality(symbols):\n",
        "  #calculate the similarity between the first symbol and all others\n",
        "  similarities = similarity(symbols[0:1, :], symbols[1:, :])\n",
        "  #calculate the first two moments of the sample\n",
        "  mean = jnp.mean(similarities)\n",
        "  std = jnp.std(similarities)\n",
        "\n",
        "  return jnp.array([mean, std])"
      ],
      "metadata": {
        "id": "E29TXSLgfEAK"
      },
      "execution_count": 14,
      "outputs": []
    },
    {
      "cell_type": "code",
      "source": [
        "estimates = jnp.array(list(map(estimate_orthogonality, cbs)))"
      ],
      "metadata": {
        "id": "g7uWWnRm8L8H"
      },
      "execution_count": 15,
      "outputs": []
    },
    {
      "cell_type": "code",
      "source": [
        "plt.figure(dpi=100)\n",
        "plt.plot(dimension_range, estimates[:,0], label=\"Mean\")\n",
        "plt.plot(dimension_range, estimates[:,1], label=\"Std. Dev\")\n",
        "plt.xlabel(\"VSA Dimensionality\")\n",
        "plt.ylabel(\"Similarity of Random Symbols\")\n",
        "plt.legend()"
      ],
      "metadata": {
        "colab": {
          "base_uri": "https://localhost:8080/",
          "height": 400
        },
        "id": "pc-iNea10zRf",
        "outputId": "714c9468-b926-4a3c-fa34-2942411e1a17"
      },
      "execution_count": 16,
      "outputs": [
        {
          "output_type": "execute_result",
          "data": {
            "text/plain": [
              "<matplotlib.legend.Legend at 0x7f2fb1b40c50>"
            ]
          },
          "metadata": {},
          "execution_count": 16
        },
        {
          "output_type": "display_data",
          "data": {
            "image/png": "[encoded data removed]",
            "text/plain": [
              "<Figure size 600x400 with 1 Axes>"
            ]
          },
          "metadata": {
            "needs_background": "light"
          }
        }
      ]
    },
    {
      "cell_type": "markdown",
      "source": [
        "As we can see, the distribution of the similarity between random vectors is always centered around zero, but becomes much more sharply peaked at zero as the dimensionality of the vector-symbol increases. In fact, this is an exponential relationship, which we can see by using a log-log chart:"
      ],
      "metadata": {
        "id": "zSuu4iZL-VZM"
      }
    },
    {
      "cell_type": "code",
      "source": [
        "plt.figure(dpi=100)\n",
        "plt.loglog(dimension_range, estimates[:,1], label=\"Std. Dev\")\n",
        "plt.xlabel(\"VSA Dimensionality\")\n",
        "plt.ylabel(\"Similarity of Random Symbols\")\n",
        "plt.legend()"
      ],
      "metadata": {
        "colab": {
          "base_uri": "https://localhost:8080/",
          "height": 404
        },
        "outputId": "54b243a3-31b9-43ac-bd25-456e074c17a1",
        "id": "3baNPX0U9u8A"
      },
      "execution_count": 17,
      "outputs": [
        {
          "output_type": "execute_result",
          "data": {
            "text/plain": [
              "<matplotlib.legend.Legend at 0x7f2fb1b60e90>"
            ]
          },
          "metadata": {},
          "execution_count": 17
        },
        {
          "output_type": "display_data",
          "data": {
            "image/png": "[encoded data removed]",
            "text/plain": [
              "<Figure size 600x400 with 1 Axes>"
            ]
          },
          "metadata": {
            "needs_background": "light"
          }
        }
      ]
    },
    {
      "cell_type": "markdown",
      "source": [
        "# Part 1 Summary\n",
        "\n",
        "So, given that random symbols in a VSA are approximately dissimilar, how does this help us construct a useful system for computation? The problem of computing in VSAs essentially becomes the problem of how to manipulate the construction of symbols in a space so that a certain relationship between two symbols is represented by their similarity.\n",
        "\n",
        "One of the simplest methods for accomplishing this is an operation which is called *bundling*, which will be demonstrated next. We'll see that the number of items which can be retrieved from a bundle successfully is directly related to the VSA dimensionality.\n"
      ],
      "metadata": {
        "id": "WaFtogenzsGR"
      }
    },
    {
      "cell_type": "code",
      "source": [
        ""
      ],
      "metadata": {
        "id": "RUvV7Msaf4Z4"
      },
      "execution_count": null,
      "outputs": []
    }
  ]
}